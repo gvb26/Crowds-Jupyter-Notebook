{
 "cells": [
  {
   "cell_type": "markdown",
   "metadata": {},
   "source": [
    "## Linear Regression\n",
    " \n",
    " Here, we have some deals data for various restaurants and bars in Philadelphia area.\n",
    " \n",
    "### The individual bar/restaurant are trying to decide the deals to put forth to restaurant.\n"
   ]
  },
  {
   "cell_type": "markdown",
   "metadata": {},
   "source": [
    "Import Statements"
   ]
  },
  {
   "cell_type": "code",
   "execution_count": 30,
   "metadata": {},
   "outputs": [],
   "source": [
    "import pandas as pd\n",
    "import numpy as np\n",
    "import matplotlib.pyplot as plt\n",
    "import seaborn as sns\n",
    "import math\n",
    "import REGRESSION"
   ]
  },
  {
   "cell_type": "markdown",
   "metadata": {},
   "source": [
    "# Read data into dataframe \n",
    "#### Get the price csv file from the company. It has deal and price info."
   ]
  },
  {
   "cell_type": "code",
   "execution_count": 31,
   "metadata": {},
   "outputs": [],
   "source": [
    "restaurant = pd.read_csv(\"DATASET1.csv\")"
   ]
  },
  {
   "cell_type": "markdown",
   "metadata": {},
   "source": [
    "## Peek at the data\n",
    "Sample Point of Sales data\n",
    "\n"
   ]
  },
  {
   "cell_type": "code",
   "execution_count": 32,
   "metadata": {
    "scrolled": false
   },
   "outputs": [
    {
     "data": {
      "text/html": [
       "<div>\n",
       "<style>\n",
       "    .dataframe thead tr:only-child th {\n",
       "        text-align: right;\n",
       "    }\n",
       "\n",
       "    .dataframe thead th {\n",
       "        text-align: left;\n",
       "    }\n",
       "\n",
       "    .dataframe tbody tr th {\n",
       "        vertical-align: top;\n",
       "    }\n",
       "</style>\n",
       "<table border=\"1\" class=\"dataframe\">\n",
       "  <thead>\n",
       "    <tr style=\"text-align: right;\">\n",
       "      <th></th>\n",
       "      <th>Menu Item</th>\n",
       "      <th>Avg. Sales Per Hr</th>\n",
       "      <th>Deal Percent</th>\n",
       "      <th>Target Sales Per Hr</th>\n",
       "      <th>Length of Deal</th>\n",
       "      <th>Monthly Sales</th>\n",
       "      <th>CrowdSize</th>\n",
       "      <th>DealCount</th>\n",
       "    </tr>\n",
       "  </thead>\n",
       "  <tbody>\n",
       "    <tr>\n",
       "      <th>0</th>\n",
       "      <td>Violet</td>\n",
       "      <td>39.577668</td>\n",
       "      <td>12.655651</td>\n",
       "      <td>34.497268</td>\n",
       "      <td>4.082621</td>\n",
       "      <td>587.951054</td>\n",
       "      <td>58</td>\n",
       "      <td>7</td>\n",
       "    </tr>\n",
       "    <tr>\n",
       "      <th>1</th>\n",
       "      <td>DarkGreen</td>\n",
       "      <td>37.268959</td>\n",
       "      <td>11.109461</td>\n",
       "      <td>31.926272</td>\n",
       "      <td>2.664034</td>\n",
       "      <td>392.204933</td>\n",
       "      <td>46</td>\n",
       "      <td>19</td>\n",
       "    </tr>\n",
       "    <tr>\n",
       "      <th>2</th>\n",
       "      <td>Bisque</td>\n",
       "      <td>37.110597</td>\n",
       "      <td>11.330278</td>\n",
       "      <td>33.000915</td>\n",
       "      <td>4.104543</td>\n",
       "      <td>487.547505</td>\n",
       "      <td>43</td>\n",
       "      <td>14</td>\n",
       "    </tr>\n",
       "    <tr>\n",
       "      <th>3</th>\n",
       "      <td>SaddleBrown</td>\n",
       "      <td>36.721283</td>\n",
       "      <td>13.717514</td>\n",
       "      <td>34.305557</td>\n",
       "      <td>3.120179</td>\n",
       "      <td>581.852344</td>\n",
       "      <td>10</td>\n",
       "      <td>9</td>\n",
       "    </tr>\n",
       "    <tr>\n",
       "      <th>4</th>\n",
       "      <td>MediumAquaMarine</td>\n",
       "      <td>37.536653</td>\n",
       "      <td>12.795189</td>\n",
       "      <td>33.330673</td>\n",
       "      <td>4.446308</td>\n",
       "      <td>599.406092</td>\n",
       "      <td>6</td>\n",
       "      <td>17</td>\n",
       "    </tr>\n",
       "  </tbody>\n",
       "</table>\n",
       "</div>"
      ],
      "text/plain": [
       "          Menu Item  Avg. Sales Per Hr  Deal Percent  Target Sales Per Hr  \\\n",
       "0            Violet          39.577668     12.655651            34.497268   \n",
       "1         DarkGreen          37.268959     11.109461            31.926272   \n",
       "2            Bisque          37.110597     11.330278            33.000915   \n",
       "3       SaddleBrown          36.721283     13.717514            34.305557   \n",
       "4  MediumAquaMarine          37.536653     12.795189            33.330673   \n",
       "\n",
       "   Length of Deal  Monthly Sales  CrowdSize  DealCount  \n",
       "0        4.082621     587.951054         58          7  \n",
       "1        2.664034     392.204933         46         19  \n",
       "2        4.104543     487.547505         43         14  \n",
       "3        3.120179     581.852344         10          9  \n",
       "4        4.446308     599.406092          6         17  "
      ]
     },
     "execution_count": 32,
     "metadata": {},
     "output_type": "execute_result"
    }
   ],
   "source": [
    "restaurant.head()"
   ]
  },
  {
   "cell_type": "markdown",
   "metadata": {},
   "source": [
    "## Some basic statistics of our data\n",
    "Note: This is just a sample data created using random values"
   ]
  },
  {
   "cell_type": "code",
   "execution_count": 33,
   "metadata": {},
   "outputs": [
    {
     "data": {
      "text/html": [
       "<div>\n",
       "<style>\n",
       "    .dataframe thead tr:only-child th {\n",
       "        text-align: right;\n",
       "    }\n",
       "\n",
       "    .dataframe thead th {\n",
       "        text-align: left;\n",
       "    }\n",
       "\n",
       "    .dataframe tbody tr th {\n",
       "        vertical-align: top;\n",
       "    }\n",
       "</style>\n",
       "<table border=\"1\" class=\"dataframe\">\n",
       "  <thead>\n",
       "    <tr style=\"text-align: right;\">\n",
       "      <th></th>\n",
       "      <th>Avg. Sales Per Hr</th>\n",
       "      <th>Deal Percent</th>\n",
       "      <th>Target Sales Per Hr</th>\n",
       "      <th>Length of Deal</th>\n",
       "      <th>Monthly Sales</th>\n",
       "      <th>CrowdSize</th>\n",
       "      <th>DealCount</th>\n",
       "    </tr>\n",
       "  </thead>\n",
       "  <tbody>\n",
       "    <tr>\n",
       "      <th>count</th>\n",
       "      <td>500.000000</td>\n",
       "      <td>500.000000</td>\n",
       "      <td>500.000000</td>\n",
       "      <td>500.000000</td>\n",
       "      <td>500.000000</td>\n",
       "      <td>500.000000</td>\n",
       "      <td>500.000000</td>\n",
       "    </tr>\n",
       "    <tr>\n",
       "      <th>mean</th>\n",
       "      <td>37.060445</td>\n",
       "      <td>12.052488</td>\n",
       "      <td>33.053194</td>\n",
       "      <td>3.533462</td>\n",
       "      <td>499.314038</td>\n",
       "      <td>31.854000</td>\n",
       "      <td>11.758000</td>\n",
       "    </tr>\n",
       "    <tr>\n",
       "      <th>std</th>\n",
       "      <td>1.010489</td>\n",
       "      <td>0.994216</td>\n",
       "      <td>0.992563</td>\n",
       "      <td>0.999278</td>\n",
       "      <td>79.314782</td>\n",
       "      <td>15.770291</td>\n",
       "      <td>4.315168</td>\n",
       "    </tr>\n",
       "    <tr>\n",
       "      <th>min</th>\n",
       "      <td>33.913847</td>\n",
       "      <td>8.508152</td>\n",
       "      <td>29.532429</td>\n",
       "      <td>0.269901</td>\n",
       "      <td>256.670582</td>\n",
       "      <td>5.000000</td>\n",
       "      <td>5.000000</td>\n",
       "    </tr>\n",
       "    <tr>\n",
       "      <th>25%</th>\n",
       "      <td>36.349257</td>\n",
       "      <td>11.388153</td>\n",
       "      <td>32.341822</td>\n",
       "      <td>2.930450</td>\n",
       "      <td>445.038277</td>\n",
       "      <td>19.000000</td>\n",
       "      <td>8.000000</td>\n",
       "    </tr>\n",
       "    <tr>\n",
       "      <th>50%</th>\n",
       "      <td>37.069367</td>\n",
       "      <td>11.983231</td>\n",
       "      <td>33.082008</td>\n",
       "      <td>3.533975</td>\n",
       "      <td>498.887875</td>\n",
       "      <td>31.000000</td>\n",
       "      <td>12.000000</td>\n",
       "    </tr>\n",
       "    <tr>\n",
       "      <th>75%</th>\n",
       "      <td>37.716432</td>\n",
       "      <td>12.753850</td>\n",
       "      <td>33.711985</td>\n",
       "      <td>4.126502</td>\n",
       "      <td>549.313828</td>\n",
       "      <td>46.000000</td>\n",
       "      <td>15.000000</td>\n",
       "    </tr>\n",
       "    <tr>\n",
       "      <th>max</th>\n",
       "      <td>40.005182</td>\n",
       "      <td>15.126994</td>\n",
       "      <td>36.139662</td>\n",
       "      <td>6.922689</td>\n",
       "      <td>765.518462</td>\n",
       "      <td>59.000000</td>\n",
       "      <td>19.000000</td>\n",
       "    </tr>\n",
       "  </tbody>\n",
       "</table>\n",
       "</div>"
      ],
      "text/plain": [
       "       Avg. Sales Per Hr  Deal Percent  Target Sales Per Hr  Length of Deal  \\\n",
       "count         500.000000    500.000000           500.000000      500.000000   \n",
       "mean           37.060445     12.052488            33.053194        3.533462   \n",
       "std             1.010489      0.994216             0.992563        0.999278   \n",
       "min            33.913847      8.508152            29.532429        0.269901   \n",
       "25%            36.349257     11.388153            32.341822        2.930450   \n",
       "50%            37.069367     11.983231            33.082008        3.533975   \n",
       "75%            37.716432     12.753850            33.711985        4.126502   \n",
       "max            40.005182     15.126994            36.139662        6.922689   \n",
       "\n",
       "       Monthly Sales   CrowdSize   DealCount  \n",
       "count     500.000000  500.000000  500.000000  \n",
       "mean      499.314038   31.854000   11.758000  \n",
       "std        79.314782   15.770291    4.315168  \n",
       "min       256.670582    5.000000    5.000000  \n",
       "25%       445.038277   19.000000    8.000000  \n",
       "50%       498.887875   31.000000   12.000000  \n",
       "75%       549.313828   46.000000   15.000000  \n",
       "max       765.518462   59.000000   19.000000  "
      ]
     },
     "execution_count": 33,
     "metadata": {},
     "output_type": "execute_result"
    }
   ],
   "source": [
    "restaurant.describe()"
   ]
  },
  {
   "cell_type": "markdown",
   "metadata": {},
   "source": [
    "### Data types of columns\n",
    "##### Subject to change"
   ]
  },
  {
   "cell_type": "code",
   "execution_count": 34,
   "metadata": {},
   "outputs": [
    {
     "name": "stdout",
     "output_type": "stream",
     "text": [
      "<class 'pandas.core.frame.DataFrame'>\n",
      "RangeIndex: 500 entries, 0 to 499\n",
      "Data columns (total 8 columns):\n",
      "Menu Item              500 non-null object\n",
      "Avg. Sales Per Hr      500 non-null float64\n",
      "Deal Percent           500 non-null float64\n",
      "Target Sales Per Hr    500 non-null float64\n",
      "Length of Deal         500 non-null float64\n",
      "Monthly Sales          500 non-null float64\n",
      "CrowdSize              500 non-null int64\n",
      "DealCount              500 non-null int64\n",
      "dtypes: float64(5), int64(2), object(1)\n",
      "memory usage: 29.3+ KB\n"
     ]
    }
   ],
   "source": [
    "restaurant.info()"
   ]
  },
  {
   "cell_type": "markdown",
   "metadata": {},
   "source": [
    "# Start Data Analysis\n",
    "\n",
    "## Lets explore data using various graphs\n",
    "\n",
    "### Crowd Size vs. Monthly Sales\n",
    "\n",
    "The graph below shows the nonuniformity of our data. This shows that the restaurant's crowd size and their monthly sales are not homogenous and there are other factors affecting sales more than the crowd size."
   ]
  },
  {
   "cell_type": "code",
   "execution_count": 35,
   "metadata": {},
   "outputs": [
    {
     "data": {
      "text/plain": [
       "<seaborn.axisgrid.JointGrid at 0x113ff890>"
      ]
     },
     "execution_count": 35,
     "metadata": {},
     "output_type": "execute_result"
    },
    {
     "data": {
      "image/png": "[encoded data removed]",
      "text/plain": [
       "<Figure size 432x432 with 3 Axes>"
      ]
     },
     "metadata": {
      "needs_background": "light"
     },
     "output_type": "display_data"
    }
   ],
   "source": [
    "sns.jointplot(x='CrowdSize',y='Monthly Sales',data=restaurant)"
   ]
  },
  {
   "cell_type": "markdown",
   "metadata": {},
   "source": [
    "### Deal Percentage vs Monthly Sales\n",
    "This graph is more usable and shows the realtion between monthly sales and deal percent. Looks like the restaurant gets more profit when they put more deals in the range of 10-15% off."
   ]
  },
  {
   "cell_type": "code",
   "execution_count": null,
   "metadata": {
    "scrolled": true
   },
   "outputs": [
    {
     "data": {
      "text/plain": [
       "<seaborn.axisgrid.JointGrid at 0xc922f0>"
      ]
     },
     "execution_count": 36,
     "metadata": {},
     "output_type": "execute_result"
    },
    {
     "data": {
      "image/png": "[encoded data removed]",
      "text/plain": [
       "<Figure size 432x432 with 3 Axes>"
      ]
     },
     "metadata": {
      "needs_background": "light"
     },
     "output_type": "display_data"
    }
   ],
   "source": [
    "sns.jointplot(x='Deal Percent',y='Monthly Sales',data=restaurant)\n"
   ]
  },
  {
   "cell_type": "markdown",
   "metadata": {},
   "source": [
    "### Hex graph of Deal Percent vs Crowd Size\n",
    "This graph is the most stable and shows the realtion between deal percent and the crowd size. We can see that the restaurant only gets more crowd when they put more deals in the range of 10-15%."
   ]
  },
  {
   "cell_type": "code",
   "execution_count": null,
   "metadata": {},
   "outputs": [
    {
     "data": {
      "text/plain": [
       "<seaborn.axisgrid.JointGrid at 0xd07a10>"
      ]
     },
     "execution_count": 37,
     "metadata": {},
     "output_type": "execute_result"
    },
    {
     "data": {
      "image/png": "[encoded data removed]",
      "text/plain": [
       "<Figure size 432x432 with 3 Axes>"
      ]
     },
     "metadata": {
      "needs_background": "light"
     },
     "output_type": "display_data"
    }
   ],
   "source": [
    "sns.jointplot(x='Deal Percent',y='CrowdSize',kind='hex',data=restaurant)"
   ]
  },
  {
   "cell_type": "markdown",
   "metadata": {},
   "source": [
    "### Pairplot of our data\n",
    "Using the pair plot, we can see analyze the distribution and find which attributes are affecting each other. More normal distribution = Higher Dependency on each other.\n",
    "\n",
    "### We can see that Length of Deal, Crowd Size and Deal Percent affect the Monthly Sales the most than all other attributes.\n"
   ]
  },
  {
   "cell_type": "code",
   "execution_count": null,
   "metadata": {},
   "outputs": [
    {
     "data": {
      "text/plain": [
       "<seaborn.axisgrid.PairGrid at 0x125a92f0>"
      ]
     },
     "execution_count": 38,
     "metadata": {},
     "output_type": "execute_result"
    }
   ],
   "source": [
    "sns.pairplot(restaurant)"
   ]
  },
  {
   "cell_type": "markdown",
   "metadata": {},
   "source": [
    "# Analyzing Length of Deal vs Monthly Sales\n",
    "\n",
    "Linear model plot of  Monthly Sales vs. Length of Deal."
   ]
  },
  {
   "cell_type": "code",
   "execution_count": null,
   "metadata": {},
   "outputs": [],
   "source": [
    "sns.lmplot(x='Length of Deal',y='Monthly Sales',data=restaurant)\n"
   ]
  },
  {
   "cell_type": "markdown",
   "metadata": {},
   "source": [
    "## Training and Testing Data\n",
    "\n",
    "### Split the data into training and testing sets.\n",
    "Set a variable X equal to the numerical features of the restaurant and a variable y equal to the \"Monthly Sales\" column.\n"
   ]
  },
  {
   "cell_type": "code",
   "execution_count": null,
   "metadata": {},
   "outputs": [],
   "source": [
    "y = restaurant['Monthly Sales']\n",
    "\n",
    "X = restaurant[['Deal Percent','Avg. Sales Per Hr', 'Length of Deal', 'CrowdSize']]\n"
   ]
  },
  {
   "cell_type": "markdown",
   "metadata": {},
   "source": [
    "Use model_selection.train_test_split from sklearn to split the data into training and testing sets. Set test_size=0.3 and random_state=101**\n"
   ]
  },
  {
   "cell_type": "code",
   "execution_count": null,
   "metadata": {},
   "outputs": [],
   "source": [
    "from sklearn.model_selection import train_test_split\n",
    "\n",
    "X_train, X_test, y_train, y_test = train_test_split(X, y, test_size=0.3, random_state=101)\n"
   ]
  },
  {
   "cell_type": "markdown",
   "metadata": {},
   "source": [
    "## Training the Model\n",
    " Train our model on our training data!\n",
    "\n",
    "### Import our regression model\n",
    "\n",
    "Create an instance of a LinearRegression() model named lm."
   ]
  },
  {
   "cell_type": "code",
   "execution_count": null,
   "metadata": {},
   "outputs": [],
   "source": [
    "\n",
    "\n",
    "lm = REGRESSION.LinearRegression()\n",
    "\n",
    "# ** Train/fit lm on the training data.**\n",
    "\n",
    "lm.fit(X_train,y_train)"
   ]
  },
  {
   "cell_type": "markdown",
   "metadata": {},
   "source": [
    "#### Print out the coefficients of the model**\n",
    "\n",
    "The coefficients"
   ]
  },
  {
   "cell_type": "code",
   "execution_count": null,
   "metadata": {},
   "outputs": [],
   "source": [
    "print('Coefficients: \\n', lm.coef_)"
   ]
  },
  {
   "cell_type": "markdown",
   "metadata": {},
   "source": [
    "### Predicting Test Data\n",
    "Now that we have fit our model, let's evaluate its performance by predicting off the test values!\n",
    " \n",
    "#Use lm.predict() to predict off the X_test set of the data."
   ]
  },
  {
   "cell_type": "code",
   "execution_count": null,
   "metadata": {},
   "outputs": [],
   "source": [
    "predictions = lm.predict( X_test)"
   ]
  },
  {
   "cell_type": "markdown",
   "metadata": {},
   "source": [
    "### Create a scatterplot of the real test values versus the predicted values. \n"
   ]
  },
  {
   "cell_type": "code",
   "execution_count": null,
   "metadata": {},
   "outputs": [],
   "source": [
    "plt.scatter(y_test,predictions)\n",
    "plt.xlabel('Y Test')\n",
    "plt.ylabel('Predicted Y')"
   ]
  },
  {
   "cell_type": "markdown",
   "metadata": {},
   "source": [
    "### Evaluating the Model\n",
    "\n",
    "Let's evaluate our model performance by calculating the residual sum of squares and the explained variance score (R^2).\n",
    "Check the metrics."
   ]
  },
  {
   "cell_type": "code",
   "execution_count": null,
   "metadata": {},
   "outputs": [],
   "source": [
    "from sklearn import metrics\n",
    "\n",
    "print('MAE:', metrics.mean_absolute_error(y_test, predictions))\n",
    "print('MSE:', metrics.mean_squared_error(y_test, predictions))\n",
    "print('RMSE:', np.sqrt(metrics.mean_squared_error(y_test, predictions)))\n"
   ]
  },
  {
   "cell_type": "markdown",
   "metadata": {},
   "source": [
    "### Residuals\n",
    "\n",
    "Next we plot a histogram of the residuals and make sure it looks normally distributed. Use either seaborn distplot. As we see, our regression model acheived a normal distribution. \n"
   ]
  },
  {
   "cell_type": "code",
   "execution_count": null,
   "metadata": {
    "scrolled": false
   },
   "outputs": [],
   "source": [
    "sns.distplot((y_test-predictions),bins=50)"
   ]
  },
  {
   "cell_type": "code",
   "execution_count": null,
   "metadata": {},
   "outputs": [],
   "source": [
    "coeffecients = pd.DataFrame(lm.coef_,X.columns)\n",
    "coeffecients.columns = ['Coeffecient']"
   ]
  },
  {
   "cell_type": "markdown",
   "metadata": {},
   "source": [
    "## Now lets check predictions\n",
    "\n",
    "Check predicted adjustment to current Deal Percent for our test data\n"
   ]
  },
  {
   "cell_type": "markdown",
   "metadata": {},
   "source": [
    "## First our Deal Percent "
   ]
  },
  {
   "cell_type": "code",
   "execution_count": null,
   "metadata": {},
   "outputs": [],
   "source": [
    "coeffecients.loc[['Deal Percent']]"
   ]
  },
  {
   "cell_type": "markdown",
   "metadata": {},
   "source": [
    "## Next the predicted sales for Menu Item 1\n"
   ]
  },
  {
   "cell_type": "code",
   "execution_count": null,
   "metadata": {
    "scrolled": true
   },
   "outputs": [],
   "source": [
    "print(predictions[0])"
   ]
  },
  {
   "cell_type": "markdown",
   "metadata": {},
   "source": [
    "### Check predicted adjustment to crowdSize for current test data\n"
   ]
  },
  {
   "cell_type": "code",
   "execution_count": null,
   "metadata": {},
   "outputs": [],
   "source": [
    "(coeffecients.loc[['CrowdSize']]*100).apply(np.ceil)"
   ]
  }
 ],
 "metadata": {
  "kernelspec": {
   "display_name": "Python 3",
   "language": "python",
   "name": "python3"
  },
  "language_info": {
   "codemirror_mode": {
    "name": "ipython",
    "version": 3
   },
   "file_extension": ".py",
   "mimetype": "text/x-python",
   "name": "python",
   "nbconvert_exporter": "python",
   "pygments_lexer": "ipython3",
   "version": "3.6.1"
  }
 },
 "nbformat": 4,
 "nbformat_minor": 2
}
